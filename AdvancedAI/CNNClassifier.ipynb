{
 "cells": [
  {
   "cell_type": "code",
   "execution_count": null,
   "metadata": {},
   "outputs": [],
   "source": []
  }
 ],
 "metadata": {
  "kernelspec": {
   "display_name": "Python 3",
   "language": "python",
   "name": "python3"
  },
  "language_info": {
   "name": "python",
   "version": "3.10.7"
  },
  "orig_nbformat": 4,
  "vscode": {
   "interpreter": {
    "hash": "03166c99ff5d6d1113771dcf5fa0226bb347b2b1b89fff5c1f65084ebe3bf037"
   }
  }
 },
 "nbformat": 4,
 "nbformat_minor": 2
}
